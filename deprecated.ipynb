{
 "cells": [
  {
   "cell_type": "code",
   "execution_count": 14,
   "metadata": {},
   "outputs": [
    {
     "name": "stdout",
     "output_type": "stream",
     "text": [
      "42\n"
     ]
    },
    {
     "name": "stderr",
     "output_type": "stream",
     "text": [
      "/usr/lib/python3.4/site-packages/ipykernel_launcher.py:29: DeprecationWarning: get_value is a deprecated function. Do not used this method\n"
     ]
    }
   ],
   "source": [
    "import warnings\n",
    "\n",
    "\n",
    "def deprecated(message):\n",
    "  def deprecated_decorator(func):\n",
    "      def deprecated_func(*args, **kwargs):\n",
    "          warnings.simplefilter('always', DeprecationWarning)  # turn off filter\n",
    "          warnings.warn(\"{} is a deprecated function. {}\".format(func.__name__, message),\n",
    "                        category=DeprecationWarning,\n",
    "                        stacklevel=2)\n",
    "          warnings.simplefilter('default', DeprecationWarning)  # reset filter\n",
    "          return func(*args, **kwargs)\n",
    "      return deprecated_func\n",
    "  return deprecated_decorator\n",
    "\n",
    "\n",
    "class A:\n",
    "    def __init__(self):\n",
    "        self.m_value = 42\n",
    "        pass\n",
    "\n",
    "    @deprecated(\"Do not used this method\")\n",
    "    def get_value(self):\n",
    "        return self.m_value\n",
    "\n",
    "\n",
    "a = A()\n",
    "\n",
    "print(a.get_value())\n"
   ]
  },
  {
   "cell_type": "code",
   "execution_count": null,
   "metadata": {},
   "outputs": [],
   "source": []
  }
 ],
 "metadata": {
  "kernelspec": {
   "display_name": "Python 3",
   "language": "python",
   "name": "python3"
  },
  "language_info": {
   "codemirror_mode": {
    "name": "ipython",
    "version": 3
   },
   "file_extension": ".py",
   "mimetype": "text/x-python",
   "name": "python",
   "nbconvert_exporter": "python",
   "pygments_lexer": "ipython3",
   "version": "3.4.6"
  }
 },
 "nbformat": 4,
 "nbformat_minor": 1
}
