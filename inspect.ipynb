{
 "cells": [
  {
   "cell_type": "code",
   "execution_count": 1,
   "metadata": {},
   "outputs": [],
   "source": [
    "\"\"\"\n",
    "How to get original variable name from the name passed to the function\n",
    "https://stackoverflow.com/questions/2749796/how-to-get-the-original-variable-name-of-variable-passed-to-a-function\n",
    "\"\"\"\n",
    "import inspect\n",
    "\n",
    "\n",
    "def foo(a, f, b):\n",
    "    frame = inspect.currentframe()\n",
    "    frame = inspect.getouterframes(frame)[1]\n",
    "    string = inspect.getframeinfo(frame[0]).code_context[0].strip()\n",
    "    print(string)\n",
    "    args = string[string.find('(') + 1:-1].split(',')\n",
    "\n",
    "    print(args)\n",
    "    \n",
    "    names = []\n",
    "    for i in args:\n",
    "        if i.find('=') != -1:\n",
    "            names.append(i.split('=')[1].strip())\n",
    "\n",
    "        else:\n",
    "            names.append(i)\n",
    "\n",
    "    print(names)\n"
   ]
  },
  {
   "cell_type": "code",
   "execution_count": 2,
   "metadata": {},
   "outputs": [
    {
     "name": "stdout",
     "output_type": "stream",
     "text": [
      "foo(a, 1000, b = c)\n",
      "['a', ' 1000', ' b = c']\n",
      "['a', ' 1000', 'c']\n"
     ]
    }
   ],
   "source": [
    "a, c = 1, 2\n",
    "foo(a, 1000, b = c)\n"
   ]
  },
  {
   "cell_type": "code",
   "execution_count": 3,
   "metadata": {},
   "outputs": [],
   "source": [
    "class A:\n",
    "    def __init__(self):\n",
    "        self.m_value = 42\n",
    "        \n",
    "        self.register_parameter(self.m_value)\n",
    "    \n",
    "    def register_parameter(self, par):        \n",
    "        frame = inspect.currentframe()\n",
    "        frame = inspect.getouterframes(frame)[1]\n",
    "        string = inspect.getframeinfo(frame[0]).code_context[0].strip()\n",
    "        args = string[string.find('(') + 1:-1].split(',')\n",
    "        print(string)\n",
    "        print(args)\n"
   ]
  },
  {
   "cell_type": "code",
   "execution_count": 4,
   "metadata": {},
   "outputs": [
    {
     "name": "stdout",
     "output_type": "stream",
     "text": [
      "self.register_parameter(self.m_value)\n",
      "['self.m_value']\n"
     ]
    }
   ],
   "source": [
    "a = A()"
   ]
  },
  {
   "cell_type": "code",
   "execution_count": null,
   "metadata": {},
   "outputs": [],
   "source": []
  }
 ],
 "metadata": {
  "kernelspec": {
   "display_name": "Python 3",
   "language": "python",
   "name": "python3"
  },
  "language_info": {
   "codemirror_mode": {
    "name": "ipython",
    "version": 3
   },
   "file_extension": ".py",
   "mimetype": "text/x-python",
   "name": "python",
   "nbconvert_exporter": "python",
   "pygments_lexer": "ipython3",
   "version": "3.4.6"
  }
 },
 "nbformat": 4,
 "nbformat_minor": 1
}
